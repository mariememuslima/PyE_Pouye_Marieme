{
 "cells": [
  {
   "cell_type": "markdown",
   "metadata": {},
   "source": [
    "VERIFICATION NUMERO"
   ]
  },
  {
   "cell_type": "code",
   "execution_count": 2,
   "metadata": {},
   "outputs": [],
   "source": [
    "def verifNumero(numero):\n",
    "    if numero.isalnum() and len(numero)==7 and numero.isupper():\n",
    "        return('Valid')\n",
    "    else:\n",
    "        return('Invalid')"
   ]
  },
  {
   "cell_type": "markdown",
   "metadata": {},
   "source": [
    "VERIFICATION NOM"
   ]
  },
  {
   "cell_type": "code",
   "execution_count": 3,
   "metadata": {},
   "outputs": [],
   "source": [
    "def verifNom(nom):\n",
    "    if nom[0].isupper() and len(nom)>=2:\n",
    "        return('Valid')\n",
    "    else:\n",
    "        return('Invalid')"
   ]
  },
  {
   "cell_type": "markdown",
   "metadata": {},
   "source": [
    "VERIFICATION PRENOM"
   ]
  },
  {
   "cell_type": "code",
   "execution_count": 4,
   "metadata": {},
   "outputs": [],
   "source": [
    "def verifPrenom(prenom):\n",
    "    if prenom[0].isupper() and len(prenom)>=3:\n",
    "        return('Valid')\n",
    "    else:\n",
    "        return('Invalid')"
   ]
  },
  {
   "cell_type": "markdown",
   "metadata": {},
   "source": [
    "TRANSFORMATION DATE"
   ]
  },
  {
   "cell_type": "code",
   "execution_count": 5,
   "metadata": {},
   "outputs": [],
   "source": [
    "import re\n",
    "import datetime\n",
    "def verifFormatdate(d):\n",
    "    d=(re.split('[- :/;_.]', d))   \n",
    "    jour = d[0]\n",
    "    annee = d[2]\n",
    "    if d[1].startswith('ja'):\n",
    "        mois = \"01\"\n",
    "    elif d[1].startswith('f'):\n",
    "        mois = \"02\"\n",
    "    elif d[1].startswith('mar'):\n",
    "        mois = \"03\"\n",
    "    elif d[1].startswith('av'):\n",
    "        mois = \"04\"\n",
    "    elif d[1].startswith('mai'):\n",
    "        mois = \"05\"\n",
    "    elif d[1].startswith('juin'):\n",
    "        mois = \"06\"\n",
    "    elif d[1].startswith('juil'):\n",
    "        mois = \"07\"\n",
    "    elif d[1].startswith('ao'):\n",
    "        mois = \"08\"\n",
    "    elif d[1].startswith('s'):\n",
    "        mois = \"09\"\n",
    "    elif d[1].startswith('o'):\n",
    "        mois = \"10\"\n",
    "    elif d[1].startswith('n'):\n",
    "        mois = \"11\"\n",
    "    elif d[1].startswith('d'):\n",
    "        mois = \"12\"\n",
    "    else:\n",
    "        mois = d[1]\n",
    "    try:\n",
    "        mafe = datetime.datetime(int(annee),int(mois),int(jour)).strftime(\"%d/%m/%Y\")\n",
    "        return mafe\n",
    "    except ValueError: \n",
    "        return 'Invalid'"
   ]
  },
  {
   "cell_type": "code",
   "execution_count": 6,
   "metadata": {},
   "outputs": [
    {
     "name": "stdout",
     "output_type": "stream",
     "text": [
      "5e \n"
     ]
    }
   ],
   "source": [
    "cla = \"5 eme \"\n",
    "def verifClasse(classes):\n",
    "    firstclasse = lastclasse = \"\"\n",
    "    classes = classes.strip()\n",
    "    po = len(classes)\n",
    "    if classes[0].isnumeric():\n",
    "        if int(classes[0]) <= 6 and int(classes[0]) >= 3: \n",
    "            firstclasse = classes[0]\n",
    "            if classes[po-1] == 'A' or classes[po-1] == 'B': \n",
    "                lastclasse = classes[po-1]\n",
    "        else :\n",
    "            False\n",
    "    try:\n",
    "        classes = firstclasse +\"e \"+ lastclasse\n",
    "        return classes\n",
    "    except False:\n",
    "        return 'Invalid'\n",
    "    \n",
    "print(verifClasse(cla))"
   ]
  },
  {
   "cell_type": "markdown",
   "metadata": {},
   "source": [
    "VERIF CLASSE"
   ]
  },
  {
   "cell_type": "code",
   "execution_count": 7,
   "metadata": {},
   "outputs": [],
   "source": [
    "def verifNote(indexnote):\n",
    "    liste = []\n",
    "    moyenne_generale = 0\n",
    "    if indexnote != '':\n",
    "        if indexnote[0]=='#':\n",
    "            indexnote = indexnote[1:]\n",
    "        indexnote = indexnote.split('#')\n",
    "        for i in range(len(indexnote)) :\n",
    "            indexnotes = indexnote[i].split('[')\n",
    "            matière = indexnotes[0]\n",
    "            if indexnote[0] !='':\n",
    "                notes = indexnotes[1].split(':')\n",
    "            else:\n",
    "                notes = indexnotes[2].split(':')\n",
    "            devoirs = notes[0].split(';')\n",
    "            composition = notes[1].split(']')\n",
    "            composition = composition[0]\n",
    "            composition = composition.replace(',','.')\n",
    "            for i in range(len(devoirs)):\n",
    "                devoirs[i] = devoirs[i].replace(',','.')\n",
    "            if float(composition) >= 0 and float(composition) <= 20:\n",
    "                composition = composition\n",
    "                for i in range(len(devoirs)):\n",
    "                    if float(devoirs[i]) >= 0 and float(devoirs[i]) <= 20:\n",
    "                        devoirs[i] = devoirs[i]\n",
    "                    else:\n",
    "                        devoirs[i] = 'Invalid'\n",
    "            else:\n",
    "                composition = 'Invalid'\n",
    "            notesdevoirs = {matière : [devoirs, composition]}\n",
    "            mpo = len(indexnote)\n",
    "            verif1 = ('Invalid' in devoirs)\n",
    "            verif = False\n",
    "            for value in notesdevoirs.values():\n",
    "                if ('Invalid' in value):\n",
    "                    verif = True\n",
    "                    break\n",
    "            if verif == False and verif1 == False:\n",
    "                    pod = len(devoirs)\n",
    "                    moyennedevoirs =0\n",
    "                    for i in range (len(devoirs)):\n",
    "                        moyennedevoirs += float(devoirs[i])\n",
    "                    moyennedevoirs = (moyennedevoirs/pod)\n",
    "                    moyenne = ((moyennedevoirs + (float(composition)*2))/3)\n",
    "                    notesdevoirs['Moyenne'] = moyenne\n",
    "            moyenne_generale+=moyenne\n",
    "\n",
    "            liste.append(notesdevoirs)\n",
    "            moyenne_generale1 = {'Moyenne Générale' : [(moyenne_generale/(len(indexnote)))]}\n",
    "        liste.append(moyenne_generale1)\n",
    "        return liste\n",
    "    else:\n",
    "        return indexnote"
   ]
  },
  {
   "cell_type": "code",
   "execution_count": null,
   "metadata": {},
   "outputs": [],
   "source": [
    "def Menu():\n",
    "    print(\"Tapez 1 pour voir la liste des élèves valides\")\n",
    "    print(\"Tapez 2 pour voir la liste des élèves valides\")\n",
    "    print(\"Tapez le numéro d'un élève pour voir ses informations\")\n",
    "    print(\"Tapez 4 pour voir les cinq premiers de la liste\")\n",
    "    print(\"Tapez 5 pour modifier une information invalide\")\n",
    " "
   ]
  },
  {
   "cell_type": "code",
   "execution_count": 96,
   "metadata": {},
   "outputs": [
    {
     "name": "stdout",
     "output_type": "stream",
     "text": [
      "Tapez 1 pour voir la liste des élèves valides\n",
      "Tapez 2 pour voir la liste des élèves valides\n",
      "Tapez le numéro d'un élève pour voir ses informations\n",
      "Tapez 4 pour voir les cinq premiers de la liste\n",
      "Tapez 5 pour modifier une information invalide\n"
     ]
    }
   ],
   "source": [
    "import csv\n",
    "import re\n",
    "import datetime\n",
    "tableaueleve = []\n",
    "dictnom = {}\n",
    "count = 0\n",
    "dictionfinale = []\n",
    "with open('ProjetPython.csv', mode='r') as inp:\n",
    "    reader = csv.reader(inp)\n",
    "    for row in reader:\n",
    "        if count == 0:\n",
    "            dictionfinale = row[1:]\n",
    "        else:\n",
    "            if row[0]!='' and row[1]!='' and row[2]!='':\n",
    "                verifier = dict(zip(dictionfinale, row[1:]))\n",
    "                tableaueleve.append(verifier)\n",
    "        count += 1\n",
    "for i in range (len(tableaueleve)):\n",
    "    tableaueleve[i]['Nom'] = (tableaueleve[i]['Nom']).replace(',', '.')\n",
    "TableauValide = []\n",
    "TableauInvalide = []\n",
    "#print(tableaueleve)\n",
    "for i in range(len(tableaueleve)): \n",
    "    testnumero = verifNumero((tableaueleve[i]['Numero']))\n",
    "    testnom = verifNom((tableaueleve[i]['Nom']))\n",
    "    testprenom = verifPrenom((tableaueleve[i]['Prénom']))\n",
    "    testclasse = verifClasse((tableaueleve[i]['Classe']))\n",
    "    tableaueleve[i]['Classe']=testclasse\n",
    "    try:\n",
    "        testnote = verifNote((tableaueleve[i]['Note']))\n",
    "        tableaueleve[i]['Note']=testnote\n",
    "    except IndexError:\n",
    "        tableaueleve[i]['Note']=tableaueleve[i]['Note']\n",
    "    if testnumero == 'Valid' and testnom == 'Valid'and testprenom == 'Valid' and testclasse != 'Invalid':\n",
    "        TableauValide.append(tableaueleve[i])\n",
    "    else:\n",
    "        TableauInvalide.append(tableaueleve[i])\n",
    "classification =[]\n",
    "#Rang/Moyenne\n",
    "#for i in range(len(TableauValide)): \n",
    " #   rang = verifRang((tableaueleve[i]))\n",
    "  #  TableauValide.append(rang)\n",
    "Menu()\n",
    "validité= input(\"saisissez 1 pour les tableaux valides et n'importe quel nombre pour les tableaux invalides\")\n",
    "ans = True\n",
    "\n",
    "while ans == True : \n",
    "    if int(validité) ==\"1\": \n",
    "        print(TableauValide) \n",
    "    elif int(validité) ==\"2\":\n",
    "        print(TableauInvalide) \n",
    "    elif int(validité)==\"3\":\n",
    "        for i in range(len(TableauValide)):\n",
    "            for value in TableauValide[i].values():\n",
    "                if (TableauValide[i]['Numero']) == validnuméro :\n",
    "                    infos = value\n",
    "        print(infos) \n",
    "    elif int(validité) ==\"4\": \n",
    "        print(TableauValide) \n",
    "    elif int(validité) ==\"5\": \n",
    "        print(TableauValide) \n",
    "    elif int(validité)==\"6\":\n",
    "        break\n",
    "    elif int(validité) !=\"\":\n",
    "        ans == False\n",
    "#numéro valide KMNLW0W\n"
   ]
  },
  {
   "cell_type": "code",
   "execution_count": null,
   "metadata": {},
   "outputs": [],
   "source": [
    "1\n"
   ]
  }
 ],
 "metadata": {
  "interpreter": {
   "hash": "31f2aee4e71d21fbe5cf8b01ff0e069b9275f58929596ceb00d14d90e3e16cd6"
  },
  "kernelspec": {
   "display_name": "Python 3 (ipykernel)",
   "language": "python",
   "name": "python3"
  },
  "language_info": {
   "codemirror_mode": {
    "name": "ipython",
    "version": 3
   },
   "file_extension": ".py",
   "mimetype": "text/x-python",
   "name": "python",
   "nbconvert_exporter": "python",
   "pygments_lexer": "ipython3",
   "version": "3.8.10"
  }
 },
 "nbformat": 4,
 "nbformat_minor": 4
}
